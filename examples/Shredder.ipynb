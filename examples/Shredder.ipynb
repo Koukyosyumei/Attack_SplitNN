{
 "cells": [
  {
   "cell_type": "code",
   "execution_count": 1,
   "id": "wooden-commons",
   "metadata": {},
   "outputs": [],
   "source": [
    "from attacksplitnn.splitnn import Client, Server, SplitNN\n",
    "from attacksplitnn.attack import Black_Box_Model_Inversion\n",
    "from attacksplitnn.utils import DataSet"
   ]
  },
  {
   "cell_type": "code",
   "execution_count": 2,
   "id": "conditional-intent",
   "metadata": {},
   "outputs": [],
   "source": [
    "from attacksplitnn.defense.shredder import Shredder"
   ]
  },
  {
   "cell_type": "code",
   "execution_count": 3,
   "id": "crucial-punishment",
   "metadata": {},
   "outputs": [],
   "source": [
    "import numpy as np\n",
    "import pandas as pd\n",
    "import random\n",
    "import matplotlib.pyplot as plt\n",
    "\n",
    "import torch\n",
    "import torchvision\n",
    "import torchvision.transforms as transforms\n",
    "import torch.nn as nn\n",
    "import torch.nn.functional as F\n",
    "import torch.optim as optim\n",
    "from torch.utils.data.dataset import Dataset\n",
    "from torch.utils.data import DataLoader\n",
    "from torch.utils.data.dataset import Subset\n",
    "\n",
    "from opacus import PrivacyEngine\n",
    "\n",
    "from sklearn.svm import SVC\n",
    "from sklearn.model_selection import train_test_split\n",
    "from sklearn.preprocessing import StandardScaler\n",
    "from sklearn.metrics import accuracy_score, roc_auc_score"
   ]
  },
  {
   "cell_type": "code",
   "execution_count": 4,
   "id": "characteristic-airline",
   "metadata": {},
   "outputs": [
    {
     "name": "stdout",
     "output_type": "stream",
     "text": [
      "cpu\n"
     ]
    }
   ],
   "source": [
    "config = {\n",
    "    \"batch_size\":128\n",
    "}\n",
    "\n",
    "device = torch.device('cuda:0' if torch.cuda.is_available() else 'cpu')\n",
    "torch.random.manual_seed(42)\n",
    "print(device)"
   ]
  },
  {
   "cell_type": "markdown",
   "id": "detected-terminology",
   "metadata": {},
   "source": [
    "## Load Data"
   ]
  },
  {
   "cell_type": "code",
   "execution_count": 5,
   "id": "assisted-situation",
   "metadata": {},
   "outputs": [],
   "source": [
    "transform = transform=transforms.Compose([\n",
    "                           transforms.ToTensor(),\n",
    "                           transforms.Normalize((0.1307,), (0.3081,))\n",
    "                       ])\n",
    "\n",
    "trainset = torchvision.datasets.MNIST(root='./data', train=True, transform=transform, download=True)\n",
    "testset = torchvision.datasets.MNIST(root='./data', train=False, transform=transform, download=True)"
   ]
  },
  {
   "cell_type": "code",
   "execution_count": 6,
   "id": "opened-wednesday",
   "metadata": {},
   "outputs": [],
   "source": [
    "victim_idx = random.sample(range(trainset.data.shape[0]), k=2000)\n",
    "victim_train_idx = victim_idx[:1000]\n",
    "attack_idx = victim_idx[1000:]\n",
    "victim_test_idx = random.sample(range(testset.data.shape[0]), k=15)\n",
    "\n",
    "victim_train_dataset = Subset(trainset, victim_train_idx)\n",
    "attack_dataset = Subset(trainset, attack_idx)\n",
    "victim_test_dataset = Subset(testset, victim_test_idx)\n",
    "\n",
    "victim_train_dataloader = torch.utils.data.DataLoader(victim_train_dataset, batch_size=64, shuffle=True)\n",
    "attack_dataloader = torch.utils.data.DataLoader(attack_dataset, batch_size=64, shuffle=True)\n",
    "victim_test_dataloader = torch.utils.data.DataLoader(victim_test_dataset, batch_size=64, shuffle=False)"
   ]
  },
  {
   "cell_type": "markdown",
   "id": "timely-report",
   "metadata": {},
   "source": [
    "## Train SplitNN"
   ]
  },
  {
   "cell_type": "code",
   "execution_count": 7,
   "id": "known-miller",
   "metadata": {},
   "outputs": [],
   "source": [
    "class FirstNet(nn.Module):\n",
    "    def __init__(self):\n",
    "        super(FirstNet, self).__init__()\n",
    "        self.conv1 = nn.Conv2d(in_channels=1, out_channels=64,\n",
    "                               kernel_size=3, padding=1, stride=1)\n",
    "        #self.bn1 = nn.BatchNorm2d(64)\n",
    "        self.conv2 = nn.Conv2d(64, 128, 3, padding=1) \n",
    "        #self.bn2 = nn.BatchNorm2d(128)\n",
    "\n",
    "    def forward(self, x):\n",
    "        # 3ch > 64ch, shape 32 x 32 > 16 x 16\n",
    "        x = self.conv1(x) # [64,32,32]\n",
    "        #x = self.bn1(x)\n",
    "        x = F.relu(x)\n",
    "        x = F.max_pool2d(x, 2, 2) # [64,16,16]\n",
    "        \n",
    "        # 64ch > 128ch, shape 16 x 16 > 8 x 8\n",
    "        x = self.conv2(x) # [128,16,16]\n",
    "        #x = self.bn2(x)\n",
    "        x = F.relu(x)\n",
    "        x = F.max_pool2d(x, 2, 2) # [128,8,8]\n",
    "        return x"
   ]
  },
  {
   "cell_type": "code",
   "execution_count": 8,
   "id": "appropriate-directory",
   "metadata": {},
   "outputs": [],
   "source": [
    "# CNNを実装する\n",
    "class SecondNet(nn.Module):\n",
    "    def __init__(self):\n",
    "        super(SecondNet, self).__init__()\n",
    "        self.conv3 = nn.Conv2d(128, 256, 3, padding=1)\n",
    "        self.bn3 = nn.BatchNorm2d(256)\n",
    "        self.conv4 = nn.Conv2d(256, 512, 3, padding=1)\n",
    "        self.bn4 = nn.BatchNorm2d(512)\n",
    "        self.L1 = nn.Linear(512, 10) # 10クラス分類\n",
    "\n",
    "    def forward(self, x):\n",
    "        # 128ch > 256ch, shape 8 x 8 > 4 x 4\n",
    "        x = self.conv3(x) # [256,8,8]\n",
    "        x = self.bn3(x)\n",
    "        x = F.relu(x)\n",
    "        x = F.max_pool2d(x, 2, 2) # [256,4,4]   \n",
    "\n",
    "        # 256ch > 512ch, shape 4 x 4 > 2 x 2\n",
    "        x = self.conv4(x) # [512,4,4]\n",
    "        x = self.bn4(x)\n",
    "        x = F.relu(x)\n",
    "        x = F.max_pool2d(x, 2, 2) # [512,2,2]\n",
    "        # 全結合層\n",
    "        x = x.view(-1, 512)\n",
    "        x = self.L1(x)\n",
    "        #x = F.softmax(x, dim=0)\n",
    "        return x\n"
   ]
  },
  {
   "cell_type": "code",
   "execution_count": 9,
   "id": "south-special",
   "metadata": {},
   "outputs": [],
   "source": [
    "model_1 = FirstNet()\n",
    "model_1 = model_1.to(device)\n",
    "\n",
    "model_2 = SecondNet()\n",
    "model_2 = model_2.to(device)\n",
    "\n",
    "opt_1 = optim.Adam(model_1.parameters(), lr=1e-3)\n",
    "opt_2 = optim.Adam(model_2.parameters(), lr=1e-3)\n",
    "\n",
    "criterion = nn.CrossEntropyLoss()"
   ]
  },
  {
   "cell_type": "code",
   "execution_count": 10,
   "id": "theoretical-victory",
   "metadata": {},
   "outputs": [],
   "source": [
    "def accuracy(label, output):\n",
    "    pred = output.argmax(dim=1, keepdim=True)\n",
    "    return pred.eq(label.view_as(pred)).sum().item() / pred.shape[0]"
   ]
  },
  {
   "cell_type": "code",
   "execution_count": 11,
   "id": "commercial-ferry",
   "metadata": {},
   "outputs": [],
   "source": [
    "client = Client(model_1)\n",
    "server = Server(model_2)\n",
    "\n",
    "splitnn = SplitNN(client, server, opt_1, opt_2)"
   ]
  },
  {
   "cell_type": "code",
   "execution_count": 12,
   "id": "empirical-forty",
   "metadata": {},
   "outputs": [
    {
     "name": "stdout",
     "output_type": "stream",
     "text": [
      "0.01861921399831772 0.651\n",
      "0.0034551422894001003 0.944\n",
      "0.001269411511719227 0.986\n"
     ]
    }
   ],
   "source": [
    "splitnn.train()\n",
    "for epoch in range(3):\n",
    "    epoch_loss = 0\n",
    "    epoch_outputs = []\n",
    "    epoch_labels = []\n",
    "    for i, data in enumerate(victim_train_dataloader):\n",
    "        splitnn.zero_grads()\n",
    "        inputs, labels = data\n",
    "        inputs = inputs.to(device)\n",
    "        labels = labels.to(device)\n",
    "        \n",
    "        outputs = splitnn(inputs)\n",
    "        loss = criterion(outputs, labels)\n",
    "        loss.backward()\n",
    "        epoch_loss += loss.item() / len(victim_train_dataloader.dataset)\n",
    "        \n",
    "        epoch_outputs.append(outputs)\n",
    "        epoch_labels.append(labels)\n",
    "        \n",
    "        splitnn.backward()\n",
    "        splitnn.step()\n",
    "        \n",
    "    print(epoch_loss, accuracy(torch.cat(epoch_labels),\n",
    "                                torch.cat(epoch_outputs)))"
   ]
  },
  {
   "cell_type": "markdown",
   "id": "accompanied-switch",
   "metadata": {},
   "source": [
    "## Apply Shredder"
   ]
  },
  {
   "cell_type": "code",
   "execution_count": 13,
   "id": "allied-nature",
   "metadata": {},
   "outputs": [
    {
     "name": "stdout",
     "output_type": "stream",
     "text": [
      "0 - 0 (distribution id, epoch):  1.1287448692321775\n",
      "0 - 1 (distribution id, epoch):  0.898578815460205\n",
      "0 - 2 (distribution id, epoch):  0.7111081466674806\n",
      "0 - 3 (distribution id, epoch):  0.611732042312622\n",
      "0 - 4 (distribution id, epoch):  0.5428772010803222\n",
      "0 - 5 (distribution id, epoch):  0.501806869506836\n",
      "0 - 6 (distribution id, epoch):  0.47256700515747074\n",
      "0 - 7 (distribution id, epoch):  0.4538306293487549\n",
      "0 - 8 (distribution id, epoch):  0.4439138622283935\n",
      "0 - 9 (distribution id, epoch):  0.4347116622924804\n",
      "0 - 10 (distribution id, epoch):  0.425452133178711\n",
      "0 - 11 (distribution id, epoch):  0.41650407028198244\n",
      "0 - 12 (distribution id, epoch):  0.4087394351959228\n",
      "0 - 13 (distribution id, epoch):  0.40460545921325686\n",
      "0 - 14 (distribution id, epoch):  0.4015523147583008\n"
     ]
    }
   ],
   "source": [
    "sd = Shredder(splitnn, (128, 7, 7), 15, criterion, optim.Adam, scale=3, alpha=-1e-2, lr=1e-2)\n",
    "sd.fit(victim_train_dataloader)"
   ]
  },
  {
   "cell_type": "code",
   "execution_count": 14,
   "id": "toxic-hammer",
   "metadata": {},
   "outputs": [],
   "source": [
    "guarded_client = sd.update_client()\n",
    "splitnn.client = guarded_client"
   ]
  },
  {
   "cell_type": "code",
   "execution_count": 15,
   "id": "awful-graduate",
   "metadata": {},
   "outputs": [
    {
     "name": "stdout",
     "output_type": "stream",
     "text": [
      "0.928\n"
     ]
    }
   ],
   "source": [
    "epoch_outputs = []\n",
    "epoch_labels = []\n",
    "\n",
    "splitnn.eval()\n",
    "for i, data in enumerate(victim_train_dataloader):\n",
    "    inputs, labels = data\n",
    "    inputs = inputs.to(device)\n",
    "    labels = labels.to(device)\n",
    "        \n",
    "    outputs = splitnn(inputs)\n",
    "        \n",
    "    epoch_outputs.append(outputs)\n",
    "    epoch_labels.append(labels)\n",
    "        \n",
    "print(accuracy(torch.cat(epoch_labels),\n",
    "                                torch.cat(epoch_outputs)))"
   ]
  },
  {
   "cell_type": "markdown",
   "id": "corrected-springer",
   "metadata": {},
   "source": [
    "## Black Box Model Inversion Attack"
   ]
  },
  {
   "cell_type": "code",
   "execution_count": 16,
   "id": "dramatic-story",
   "metadata": {},
   "outputs": [],
   "source": [
    "# CNNを実装する\n",
    "class Attacker(nn.Module):\n",
    "    def __init__(self):\n",
    "        super(Attacker, self).__init__()\n",
    "        self.fla = nn.Flatten()\n",
    "        self.ln1 = nn.Linear(128*7*7, 1000)\n",
    "        self.ln2 = nn.Linear(1000, 784)\n",
    "\n",
    "    def forward(self, x):\n",
    "        x = self.fla(x)\n",
    "        x = self.ln1(x)\n",
    "        x = F.relu(x)\n",
    "        x = self.ln2(x)\n",
    "        x = x.view(-1, 1, 28, 28)\n",
    "\n",
    "        return x\n",
    "    \n",
    "attacker = Attacker()\n",
    "attacker = attacker.to(device)\n",
    "\n",
    "opt_3 = optim.Adam(attacker.parameters(), lr=1e-3)"
   ]
  },
  {
   "cell_type": "code",
   "execution_count": 17,
   "id": "prescribed-bachelor",
   "metadata": {},
   "outputs": [
    {
     "name": "stdout",
     "output_type": "stream",
     "text": [
      "epoch 0: reconstruction_loss 0.975017786026001\n",
      "epoch 1: reconstruction_loss 0.9678012728691101\n",
      "epoch 2: reconstruction_loss 0.9802328944206238\n",
      "epoch 3: reconstruction_loss 1.0797921419143677\n",
      "epoch 4: reconstruction_loss 0.9478826522827148\n",
      "epoch 5: reconstruction_loss 0.9368577003479004\n",
      "epoch 6: reconstruction_loss 0.946915328502655\n",
      "epoch 7: reconstruction_loss 0.9506018757820129\n",
      "epoch 8: reconstruction_loss 0.9650967121124268\n",
      "epoch 9: reconstruction_loss 1.03243887424469\n",
      "epoch 10: reconstruction_loss 0.9003762602806091\n",
      "epoch 11: reconstruction_loss 0.9279614686965942\n",
      "epoch 12: reconstruction_loss 0.8976409435272217\n",
      "epoch 13: reconstruction_loss 0.8608975410461426\n",
      "epoch 14: reconstruction_loss 0.8380600214004517\n"
     ]
    }
   ],
   "source": [
    "bbmi = Black_Box_Model_Inversion(splitnn, attacker, opt_3)\n",
    "bbmi.fit(attack_dataloader, 15)"
   ]
  },
  {
   "cell_type": "code",
   "execution_count": 18,
   "id": "interested-proxy",
   "metadata": {},
   "outputs": [],
   "source": [
    "attack_result = bbmi.attack(victim_test_dataloader)\n",
    "attack_result = attack_result.detach().numpy()"
   ]
  },
  {
   "cell_type": "markdown",
   "id": "damaged-feelings",
   "metadata": {},
   "source": [
    "### Reconstructed Images"
   ]
  },
  {
   "cell_type": "code",
   "execution_count": 19,
   "id": "cooked-immigration",
   "metadata": {},
   "outputs": [
    {
     "data": {
      "image/png": "[encoded data removed]",
      "text/plain": [
       "<Figure size 432x288 with 15 Axes>"
      ]
     },
     "metadata": {
      "needs_background": "light"
     },
     "output_type": "display_data"
    }
   ],
   "source": [
    "for i in range(1,16): \n",
    "    plt.subplot(3,5,i)\n",
    "    plt.imshow(attack_result[i-1].reshape(28,28),cmap='gray_r')\n",
    "#plt.title(\"reconstructed data\")\n",
    "plt.show()"
   ]
  },
  {
   "cell_type": "code",
   "execution_count": null,
   "id": "postal-scanner",
   "metadata": {},
   "outputs": [],
   "source": []
  }
 ],
 "metadata": {
  "kernelspec": {
   "display_name": "Python 3",
   "language": "python",
   "name": "python3"
  },
  "language_info": {
   "codemirror_mode": {
    "name": "ipython",
    "version": 3
   },
   "file_extension": ".py",
   "mimetype": "text/x-python",
   "name": "python",
   "nbconvert_exporter": "python",
   "pygments_lexer": "ipython3",
   "version": "3.9.1"
  }
 },
 "nbformat": 4,
 "nbformat_minor": 5
}
