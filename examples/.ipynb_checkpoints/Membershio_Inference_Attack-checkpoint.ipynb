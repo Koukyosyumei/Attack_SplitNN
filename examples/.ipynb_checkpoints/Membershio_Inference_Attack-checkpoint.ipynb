{
 "cells": [
  {
   "cell_type": "code",
   "execution_count": null,
   "id": "streaming-tomorrow",
   "metadata": {},
   "outputs": [],
   "source": [
    "import numpy as np\n",
    "import pandas as pd\n",
    "import random\n",
    "import matplotlib.pyplot as plt\n",
    "\n",
    "import torch\n",
    "import torchvision\n",
    "import torchvision.transforms as transforms\n",
    "import torch.nn as nn\n",
    "import torch.nn.functional as F\n",
    "import torch.optim as optim\n",
    "from torch.utils.data.dataset import Dataset\n",
    "from torch.utils.data import DataLoader\n",
    "\n",
    "from sklearn.svm import SVC\n",
    "from sklearn.model_selection import train_test_split\n",
    "from sklearn.preprocessing import StandardScaler\n",
    "from sklearn.metrics import accuracy_score, roc_auc_score\n",
    "\n",
    "from src.splitnn import Client, Server, SplitNN\n",
    "from src.attack import SplitMIA\n",
    "from src.defense.noised_grad import max_norm\n",
    "from src.measure import label_leak_auc\n",
    "from src.utils.utils import DataSet"
   ]
  },
  {
   "cell_type": "code",
   "execution_count": 1,
   "id": "sunset-progressive",
   "metadata": {},
   "outputs": [
    {
     "ename": "NameError",
     "evalue": "name 'torch' is not defined",
     "output_type": "error",
     "traceback": [
      "\u001b[1;31m---------------------------------------------------------------------------\u001b[0m",
      "\u001b[1;31mNameError\u001b[0m                                 Traceback (most recent call last)",
      "\u001b[1;32m<ipython-input-1-32a3872cea10>\u001b[0m in \u001b[0;36m<module>\u001b[1;34m\u001b[0m\n\u001b[1;32m----> 1\u001b[1;33m \u001b[0mdevice\u001b[0m \u001b[1;33m=\u001b[0m \u001b[0mtorch\u001b[0m\u001b[1;33m.\u001b[0m\u001b[0mdevice\u001b[0m\u001b[1;33m(\u001b[0m\u001b[1;34m'cuda:0'\u001b[0m \u001b[1;32mif\u001b[0m \u001b[0mtorch\u001b[0m\u001b[1;33m.\u001b[0m\u001b[0mcuda\u001b[0m\u001b[1;33m.\u001b[0m\u001b[0mis_available\u001b[0m\u001b[1;33m(\u001b[0m\u001b[1;33m)\u001b[0m \u001b[1;32melse\u001b[0m \u001b[1;34m'cpu'\u001b[0m\u001b[1;33m)\u001b[0m\u001b[1;33m\u001b[0m\u001b[1;33m\u001b[0m\u001b[0m\n\u001b[0m\u001b[0;32m      2\u001b[0m \u001b[0mprint\u001b[0m\u001b[1;33m(\u001b[0m\u001b[0mdevice\u001b[0m\u001b[1;33m)\u001b[0m\u001b[1;33m\u001b[0m\u001b[1;33m\u001b[0m\u001b[0m\n",
      "\u001b[1;31mNameError\u001b[0m: name 'torch' is not defined"
     ]
    }
   ],
   "source": [
    "device = torch.device('cuda:0' if torch.cuda.is_available() else 'cpu')\n",
    "print(device)"
   ]
  },
  {
   "cell_type": "code",
   "execution_count": 3,
   "id": "touched-suffering",
   "metadata": {},
   "outputs": [],
   "source": [
    "trainset = torchvision.datasets.MNIST(root='./data', train=True, download=True)\n",
    "testset = torchvision.datasets.MNIST(root='./data', train=False, download=True)"
   ]
  },
  {
   "cell_type": "code",
   "execution_count": 4,
   "id": "covered-plaza",
   "metadata": {},
   "outputs": [
    {
     "name": "stdout",
     "output_type": "stream",
     "text": [
      "(60000, 28, 28) (60000,)\n",
      "(10000, 28, 28) (10000,)\n"
     ]
    }
   ],
   "source": [
    "X_train = np.array(trainset.data)\n",
    "y_train = np.array(trainset.targets)\n",
    "\n",
    "X_test = np.array(testset.data)\n",
    "y_test = np.array(testset.targets)\n",
    "\n",
    "print(X_train.shape, y_train.shape)\n",
    "print(X_test.shape, y_test.shape)"
   ]
  },
  {
   "cell_type": "code",
   "execution_count": 5,
   "id": "becoming-grill",
   "metadata": {},
   "outputs": [
    {
     "name": "stdout",
     "output_type": "stream",
     "text": [
      "(4000, 28, 28) (4000,)\n",
      "(1000, 28, 28) (1000,)\n",
      "(2000, 28, 28) (2000,)\n"
     ]
    }
   ],
   "source": [
    "victim_idx = random.sample(range(X_train.shape[0]), k=4000)\n",
    "attack_idx = random.sample(range(X_test.shape[0]), k=3000)\n",
    "shadow_idx = attack_idx[:1000]\n",
    "eval_idx = attack_idx[1000:]\n",
    "\n",
    "X_victim = X_train[victim_idx]\n",
    "y_victim = y_train[victim_idx]\n",
    "\n",
    "X_shadow = X_test[shadow_idx]\n",
    "y_shadow = y_test[shadow_idx]\n",
    "\n",
    "X_eval = X_test[eval_idx]\n",
    "y_eval = y_test[eval_idx]\n",
    "\n",
    "print(X_victim.shape, y_victim.shape)\n",
    "print(X_shadow.shape, y_shadow.shape)\n",
    "print(X_eval.shape, y_eval.shape)"
   ]
  },
  {
   "cell_type": "code",
   "execution_count": 6,
   "id": "ranking-blank",
   "metadata": {},
   "outputs": [],
   "source": [
    "transform = transform=transforms.Compose([\n",
    "                           transforms.ToTensor(),\n",
    "                           transforms.Normalize((0.1307,), (0.3081,))\n",
    "                       ])\n",
    "\n",
    "victimset = DataSet(X_victim, y_victim, transform=transform)\n",
    "victimloader = torch.utils.data.DataLoader(victimset, batch_size=64, shuffle=True)\n",
    "\n",
    "shadowset = DataSet(X_shadow, y_shadow, transform=transform)\n",
    "shadowloader = torch.utils.data.DataLoader(shadowset, batch_size=64, shuffle=True)\n",
    "\n",
    "valset = DataSet(X_eval, y_eval, transform=transform)\n",
    "valloader = torch.utils.data.DataLoader(valset, batch_size=64, shuffle=True)"
   ]
  },
  {
   "cell_type": "code",
   "execution_count": 7,
   "id": "precise-hazard",
   "metadata": {},
   "outputs": [],
   "source": [
    "class FirstNet(nn.Module):\n",
    "    def __init__(self):\n",
    "        super(FirstNet, self).__init__()\n",
    "        self.conv1 = nn.Conv2d(in_channels=1, out_channels=64,\n",
    "                               kernel_size=3, padding=1, stride=1)\n",
    "        self.bn1 = nn.BatchNorm2d(64)\n",
    "        self.conv2 = nn.Conv2d(64, 128, 3, padding=1) \n",
    "        self.bn2 = nn.BatchNorm2d(128)\n",
    "\n",
    "    def forward(self, x):\n",
    "        # 3ch > 64ch, shape 32 x 32 > 16 x 16\n",
    "        x = self.conv1(x) # [64,32,32]\n",
    "        x = self.bn1(x)\n",
    "        x = F.relu(x)\n",
    "        x = F.max_pool2d(x, 2, 2) # [64,16,16]\n",
    "        \n",
    "        # 64ch > 128ch, shape 16 x 16 > 8 x 8\n",
    "        x = self.conv2(x) # [128,16,16]\n",
    "        x = self.bn2(x)\n",
    "        x = F.relu(x)\n",
    "        x = F.max_pool2d(x, 2, 2) # [128,8,8]\n",
    "        return x"
   ]
  },
  {
   "cell_type": "code",
   "execution_count": 8,
   "id": "expected-aruba",
   "metadata": {},
   "outputs": [],
   "source": [
    "# CNNを実装する\n",
    "class SecondNet(nn.Module):\n",
    "    def __init__(self):\n",
    "        super(SecondNet, self).__init__()\n",
    "        self.conv3 = nn.Conv2d(128, 256, 3, padding=1)\n",
    "        self.bn3 = nn.BatchNorm2d(256)\n",
    "        self.conv4 = nn.Conv2d(256, 512, 3, padding=1)\n",
    "        self.bn4 = nn.BatchNorm2d(512)\n",
    "        self.L1 = nn.Linear(512, 10) # 10クラス分類\n",
    "\n",
    "    def forward(self, x):\n",
    "        # 128ch > 256ch, shape 8 x 8 > 4 x 4\n",
    "        x = self.conv3(x) # [256,8,8]\n",
    "        x = self.bn3(x)\n",
    "        x = F.relu(x)\n",
    "        x = F.max_pool2d(x, 2, 2) # [256,4,4]   \n",
    "\n",
    "        # 256ch > 512ch, shape 4 x 4 > 2 x 2\n",
    "        x = self.conv4(x) # [512,4,4]\n",
    "        x = self.bn4(x)\n",
    "        x = F.relu(x)\n",
    "        x = F.max_pool2d(x, 2, 2) # [512,2,2]\n",
    "        # 全結合層\n",
    "        x = x.view(-1, 512)\n",
    "        x = self.L1(x)\n",
    "        #x = F.softmax(x, dim=0)\n",
    "        return x\n"
   ]
  },
  {
   "cell_type": "code",
   "execution_count": 17,
   "id": "entitled-content",
   "metadata": {},
   "outputs": [],
   "source": [
    "model_1 = FirstNet()\n",
    "model_1 = model_1.to(device)\n",
    "\n",
    "model_2 = SecondNet()\n",
    "model_2 = model_2.to(device)\n",
    "\n",
    "opt_1 = optim.Adam(model_1.parameters(), lr=1e-3)\n",
    "opt_2 = optim.Adam(model_2.parameters(), lr=1e-3)\n",
    "\n",
    "criterion = nn.CrossEntropyLoss()"
   ]
  },
  {
   "cell_type": "code",
   "execution_count": 18,
   "id": "computational-oasis",
   "metadata": {},
   "outputs": [],
   "source": [
    "def accuracy(label, output):\n",
    "    pred = output.argmax(dim=1, keepdim=True)\n",
    "    return pred.eq(label.view_as(pred)).sum().item() / pred.shape[0]"
   ]
  },
  {
   "cell_type": "code",
   "execution_count": 19,
   "id": "gross-lender",
   "metadata": {},
   "outputs": [
    {
     "name": "stdout",
     "output_type": "stream",
     "text": [
      "epoch 1, loss 0.0056084, metric 0.891\n",
      "epoch 2, loss 0.001082, metric 0.97925\n",
      "epoch 3, loss 0.00065994, metric 0.98825\n"
     ]
    }
   ],
   "source": [
    "client = Client(model_1, opt_1)\n",
    "server = Server(model_2, opt_2, criterion)\n",
    "\n",
    "sn = SplitNN(client, server, device=device)\n",
    "sn.fit(victimloader, 3, metric=accuracy)"
   ]
  },
  {
   "cell_type": "code",
   "execution_count": null,
   "id": "accessible-kitty",
   "metadata": {},
   "outputs": [],
   "source": []
  }
 ],
 "metadata": {
  "kernelspec": {
   "display_name": "Python 3",
   "language": "python",
   "name": "python3"
  },
  "language_info": {
   "codemirror_mode": {
    "name": "ipython",
    "version": 3
   },
   "file_extension": ".py",
   "mimetype": "text/x-python",
   "name": "python",
   "nbconvert_exporter": "python",
   "pygments_lexer": "ipython3",
   "version": "3.9.1"
  }
 },
 "nbformat": 4,
 "nbformat_minor": 5
}
