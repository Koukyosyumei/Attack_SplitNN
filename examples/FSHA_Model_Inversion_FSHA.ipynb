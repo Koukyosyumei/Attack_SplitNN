{
 "cells": [
  {
   "cell_type": "code",
   "execution_count": 1,
   "id": "certain-writer",
   "metadata": {},
   "outputs": [],
   "source": [
    "import random\n",
    "\n",
    "import torch\n",
    "import torchvision\n",
    "import torchvision.transforms as transforms\n",
    "import torch.nn as nn\n",
    "import torch.nn.functional as F\n",
    "import torch.optim as optim\n",
    "from torch.utils.data.dataset import Dataset\n",
    "from torch.utils.data import DataLoader\n",
    "\n",
    "from matplotlib import pyplot as plt\n",
    "import numpy as np"
   ]
  },
  {
   "cell_type": "code",
   "execution_count": 2,
   "id": "bigger-kidney",
   "metadata": {},
   "outputs": [],
   "source": [
    "from attack_splitnn.attack.model_inversion.fsha import FSHA\n",
    "from attack_splitnn.attack.model_inversion.fshamnist import Resnet, Decoder, Discriminator, Pilot\n",
    "from attack_splitnn.utils import DataSet"
   ]
  },
  {
   "cell_type": "code",
   "execution_count": 3,
   "id": "sixth-string",
   "metadata": {},
   "outputs": [
    {
     "name": "stdout",
     "output_type": "stream",
     "text": [
      "(60000, 28, 28) (60000,)\n",
      "(10000, 28, 28) (10000,)\n"
     ]
    }
   ],
   "source": [
    "trainset = torchvision.datasets.MNIST(root='./data', train=True, download=True)\n",
    "testset = torchvision.datasets.MNIST(root='./data', train=False, download=True)\n",
    "\n",
    "X_train = np.array(trainset.data)\n",
    "y_train = np.array(trainset.targets)\n",
    "\n",
    "X_test = np.array(testset.data)\n",
    "y_test = np.array(testset.targets)\n",
    "\n",
    "print(X_train.shape, y_train.shape)\n",
    "print(X_test.shape, y_test.shape)\n",
    "\n",
    "#public_idx = random.sample(list(np.where(y_train == 3)[0]) + list(np.where(y_train == 7)[0]), k=15)\n",
    "#private_idx = random.sample(list(np.where(y_test == 3)[0]) + list(np.where(y_test == 7)[0]), k=15)\n",
    "public_idx = random.sample(list(range(y_train.shape[0])), k=15)\n",
    "private_idx = random.sample(list(range(y_test.shape[0])), k=15)\n",
    "\n",
    "X_public = X_train[public_idx]\n",
    "y_public = y_train[public_idx]\n",
    "X_private = X_test[private_idx]\n",
    "y_private = y_test[private_idx]\n",
    "\n",
    "transform = transforms.Compose([transforms.ToTensor(),transforms.Normalize(0.1307, 0.3081)])\n",
    "\n",
    "publicset = DataSet(X_public, y_public, transform=transform)\n",
    "publicloader = torch.utils.data.DataLoader(publicset, batch_size=64, shuffle=True, num_workers=1)\n",
    "\n",
    "privateset = DataSet(X_private, y_private, transform=transform)\n",
    "privateloader = torch.utils.data.DataLoader(privateset, batch_size=64, shuffle=True, num_workers=1)"
   ]
  },
  {
   "cell_type": "code",
   "execution_count": 5,
   "id": "expired-chance",
   "metadata": {},
   "outputs": [],
   "source": [
    "f = Resnet(level=4)\n",
    "tilde_f = Pilot(level=4)\n",
    "decoder = Decoder(input_dim=256, level=4)\n",
    "D = Discriminator(level=4)\n",
    "\n",
    "optimizers = [optim.Adam, optim.Adam, optim.Adam]"
   ]
  },
  {
   "cell_type": "code",
   "execution_count": 6,
   "id": "furnished-breeding",
   "metadata": {},
   "outputs": [],
   "source": [
    "fsha = FSHA(privateloader, publicloader,\n",
    "            f, tilde_f, D, decoder,\n",
    "            optimizers, wgan=True, gradient_penalty=500)"
   ]
  },
  {
   "cell_type": "code",
   "execution_count": null,
   "id": "composed-edmonton",
   "metadata": {},
   "outputs": [
    {
     "name": "stdout",
     "output_type": "stream",
     "text": [
      "f_loss:0.09375400841236115 tilde_f_loss:1.0684651136398315 D_loss:-0.04273427277803421 loss_c:1.1504851579666138\n",
      "f_loss:11.475993156433105 tilde_f_loss:0.9742318987846375 D_loss:-9.458589553833008 loss_c:1.1381759643554688\n",
      "f_loss:551244.0 tilde_f_loss:0.6492138504981995 D_loss:-464594.625 loss_c:0.9608574509620667\n",
      "f_loss:2652885248.0 tilde_f_loss:0.5386390686035156 D_loss:-2112669696.0 loss_c:0.9722080826759338\n",
      "f_loss:660334837760.0 tilde_f_loss:0.4792214334011078 D_loss:-523507302400.0 loss_c:0.9387363791465759\n",
      "f_loss:49951811829760.0 tilde_f_loss:0.44034668803215027 D_loss:-46003289849856.0 loss_c:0.8705729842185974\n",
      "f_loss:1384855027843072.0 tilde_f_loss:0.411140501499176 D_loss:-1318214852149248.0 loss_c:0.8826361894607544\n",
      "f_loss:1.966884568170496e+16 tilde_f_loss:0.3884895443916321 D_loss:-1.887277349339136e+16 loss_c:0.8765168190002441\n",
      "f_loss:1.7837263750273434e+17 tilde_f_loss:0.3723907768726349 D_loss:-1.7251179385008947e+17 loss_c:0.8939623236656189\n",
      "f_loss:1.318674669200474e+18 tilde_f_loss:0.3608403503894806 D_loss:-1.2676845425844552e+18 loss_c:0.8521748185157776\n"
     ]
    }
   ],
   "source": [
    "fsha.train(epochs=10000, verbose=100)"
   ]
  },
  {
   "cell_type": "code",
   "execution_count": null,
   "id": "involved-appeal",
   "metadata": {},
   "outputs": [],
   "source": [
    "for (x_private, label_private), (x_public, label_public) in\\\n",
    "                    zip(privateloader, publicloader):\n",
    "    break;\n",
    "\n",
    "x_recovered, control = fsha.attack(x_private)"
   ]
  },
  {
   "cell_type": "code",
   "execution_count": null,
   "id": "specialized-southwest",
   "metadata": {},
   "outputs": [],
   "source": [
    "for i in range(1,5): \n",
    "    plt.subplot(1,5,i) # 横並びに表示するためのおまじない\n",
    "    plt.imshow(x_private[i-1].reshape(28,28),cmap='gray_r')\n",
    "plt.title(\"x_private\")\n",
    "plt.show()\n",
    "\n",
    "for i in range(1,5): \n",
    "    plt.subplot(1,5,i) # 横並びに表示するためのおまじない\n",
    "    plt.imshow(x_recovered[i-1].reshape(28,28),cmap='gray_r')\n",
    "plt.title(\"x_recovered\")\n",
    "plt.show()\n",
    "\n",
    "for i in range(1,5): \n",
    "    plt.subplot(1,5,i) # 横並びに表示するためのおまじない\n",
    "    plt.imshow(control[i-1].reshape(28,28),cmap='gray_r')\n",
    "plt.title(\"control\")\n",
    "plt.show()"
   ]
  }
 ],
 "metadata": {
  "kernelspec": {
   "display_name": "Python 3",
   "language": "python",
   "name": "python3"
  },
  "language_info": {
   "codemirror_mode": {
    "name": "ipython",
    "version": 3
   },
   "file_extension": ".py",
   "mimetype": "text/x-python",
   "name": "python",
   "nbconvert_exporter": "python",
   "pygments_lexer": "ipython3",
   "version": "3.9.1"
  }
 },
 "nbformat": 4,
 "nbformat_minor": 5
}
